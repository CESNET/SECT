{
 "cells": [
  {
   "cell_type": "code",
   "execution_count": 1,
   "metadata": {
    "jupyter": {
     "source_hidden": true
    },
    "pycharm": {
     "is_executing": false,
     "name": "#%%\n"
    }
   },
   "outputs": [
    {
     "name": "stdout",
     "output_type": "stream",
     "text": [
      "[WinError 3] The system cannot find the path specified: 'C:/Users/istoffa/Repos/SECT'\n",
      "C:\\Users\\Imrich\\Repos\\SECT\\notebooks\n"
     ]
    },
    {
     "ename": "ModuleNotFoundError",
     "evalue": "No module named 'utils'",
     "output_type": "error",
     "traceback": [
      "\u001b[1;31m---------------------------------------------------------------------------\u001b[0m",
      "\u001b[1;31mModuleNotFoundError\u001b[0m                       Traceback (most recent call last)",
      "\u001b[1;32m<ipython-input-1-aedf17da0c53>\u001b[0m in \u001b[0;36m<module>\u001b[1;34m\u001b[0m\n\u001b[0;32m     23\u001b[0m \u001b[1;33m\u001b[0m\u001b[0m\n\u001b[0;32m     24\u001b[0m \u001b[1;31m#SECT code\u001b[0m\u001b[1;33m\u001b[0m\u001b[1;33m\u001b[0m\u001b[1;33m\u001b[0m\u001b[0m\n\u001b[1;32m---> 25\u001b[1;33m \u001b[1;32mimport\u001b[0m \u001b[0mutils\u001b[0m\u001b[1;33m\u001b[0m\u001b[1;33m\u001b[0m\u001b[0m\n\u001b[0m\u001b[0;32m     26\u001b[0m \u001b[1;32mimport\u001b[0m \u001b[0mTemporalClusterer\u001b[0m\u001b[1;33m\u001b[0m\u001b[1;33m\u001b[0m\u001b[0m\n\u001b[0;32m     27\u001b[0m \u001b[1;32mimport\u001b[0m \u001b[0mdCollector\u001b[0m \u001b[1;32mas\u001b[0m \u001b[0mdC\u001b[0m\u001b[1;33m\u001b[0m\u001b[1;33m\u001b[0m\u001b[0m\n",
      "\u001b[1;31mModuleNotFoundError\u001b[0m: No module named 'utils'"
     ]
    }
   ],
   "source": [
    "%pwd  #look at the current work dir\n",
    "%cd ~/Repos/SECT\n",
    "%matplotlib inline\n",
    "\n",
    "#dataproc\n",
    "import numpy as np\n",
    "import pandas as pd\n",
    "import datetime\n",
    "\n",
    "import umap\n",
    "import hdbscan\n",
    "\n",
    "#plotting\n",
    "import matplotlib.pyplot as plt\n",
    "import seaborn as sns\n",
    "import plotly.offline as pyo\n",
    "import plotly.graph_objs as go\n",
    "from IPython.display import display, HTML\n",
    "\n",
    "# Set notebook mode to work in offline\n",
    "#from scipy.cluster.hierarchy import dendrogram, linkage\n",
    "\n",
    "#SECT code\n",
    "import utils\n",
    "import TemporalClusterer\n",
    "import dCollector as dC\n",
    "import graphing\n",
    "\n",
    "#utils\n",
    "from pathlib import Path\n",
    "import urllib.parse"
   ]
  },
  {
   "cell_type": "code",
   "execution_count": null,
   "metadata": {
    "jupyter": {
     "source_hidden": true
    },
    "pycharm": {
     "is_executing": false,
     "name": "#%%\n"
    }
   },
   "outputs": [],
   "source": [
    "def mentat_query_link(val):\n",
    "    template='<a href=\"https://mentat-hub.cesnet.cz/mentat/timeline/search?{}\">ips[{}:{}]</a>'\n",
    "    params={'dt_from':dt_from, 'dt_to':dt_to, 'source_addrs':'', 'source_ports':'', 'submit':'Search'}\n",
    "    params['source_addrs']=str(val).lstrip('[').rstrip(']').replace('\\'','')\n",
    "    query = urllib.parse.urlencode(params)\n",
    "    \n",
    "    pages=''\n",
    "    step=20\n",
    "    for x in range(0,len(val),step):\n",
    "        params['source_addrs']=str(val[x:x+step]).lstrip('[').rstrip(']').replace('\\'','')\n",
    "        query_pt = urllib.parse.urlencode(params)\n",
    "        pages+='\\n'+template.format(query_pt,x,min(x+step,len(val)))\n",
    "    \n",
    "    return template.format(query,'','')+pages                          \n",
    "\n",
    "\n",
    "def date_input(analysis_date):\n",
    "    lst=analysis_date.split(\"_\")\n",
    "\n",
    "    dt_from = (datetime.datetime.strptime(lst[0],'%Y-%m-%d')-datetime.timedelta(days=1)).isoformat(sep=' ')\n",
    "    #if len(lst) == 2:\n",
    "    dt_to = (datetime.datetime.strptime(lst[-1], '%Y-%m-%d')+\n",
    "             datetime.timedelta(days=1, hours=23, minutes=59, seconds=59)).isoformat(sep=' ')\n",
    "    #else:\n",
    "    #    dt_to = (datetime.datetime(lst[0]+' 23:59:59')+datetime.timedelta(days=1)).toisoformat(sep=' ')\n",
    "\n",
    "    dirname=lst[0]+'_'+lst[-1]\n",
    "\n",
    "    return dt_from, dt_to, dirname\n",
    "\n",
    "\n",
    "def nerd_query_link(val):\n",
    "    return '<a href=\"https://nerd.cesnet.cz/nerd/ip/{}\">NERD</a>'.format(val)\n",
    "\n",
    "def nerd_query_link_ip(val):\n",
    "    return '<a href=\"https://nerd.cesnet.cz/nerd/ip/{}\">{}</a>'.format(val, val)\n",
    "\n",
    "\n",
    "def nerd_query_link_list(val):\n",
    "    template='<a href=\"https://nerd.cesnet.cz/nerd/ip/{}\">{}</a>'\n",
    "    res=''\n",
    "    for x in val[:-1]:\n",
    "        res += template.format(x, x)+', '\n",
    "    #return template.format(val[0],val[0])\n",
    "    return res + template.format(val[-1],val[-1])"
   ]
  },
  {
   "cell_type": "code",
   "execution_count": null,
   "metadata": {
    "jupyter": {
     "source_hidden": true
    },
    "pycharm": {
     "is_executing": false,
     "name": "#%%\n"
    }
   },
   "outputs": [],
   "source": [
    "sns.set(style='white', context='notebook', rc={'figure.figsize':(14,10)})\n",
    "\n",
    "pd.set_option('display.max_rows', 30)\n",
    "pd.set_option('display.max_columns', None)\n",
    "pd.set_option('display.max_colwidth', None)  # more options can be specified also\n",
    "\n",
    "pyo.init_notebook_mode()"
   ]
  },
  {
   "cell_type": "markdown",
   "metadata": {
    "jupyter": {
     "outputs_hidden": false
    },
    "pycharm": {
     "is_executing": false,
     "name": "#%% md\n"
    }
   },
   "source": [
    "## Arguments"
   ]
  },
  {
   "cell_type": "code",
   "execution_count": null,
   "metadata": {
    "pycharm": {
     "is_executing": false
    }
   },
   "outputs": [],
   "source": [
    "data_loc='./data/match/'\n",
    "#data_loc='Z:\\\\SECT\\\\results\\\\'\n",
    "\n",
    "analysis_date='2020-03-12'"
   ]
  },
  {
   "cell_type": "code",
   "execution_count": null,
   "metadata": {
    "pycharm": {
     "is_executing": false,
     "name": "#%%\n"
    }
   },
   "outputs": [],
   "source": [
    "dt_from, dt_to, dirname = date_input(analysis_date)\n",
    "\n",
    "path=data_loc+dirname+'/'\n",
    "\n",
    "print('Reading data in...\\n')\n",
    "print(path)\n",
    "\n",
    "#load data \n",
    "df, clusters, series, nerd, flows, srcip, srcport = utils.load_analysis(path)\n",
    "\n",
    "clusters['ips_sorted']=clusters.ips.apply(lambda x: list(pd.Series(x).sort_values()))\n",
    "clusters['MENTAT']=clusters.ips_sorted"
   ]
  },
  {
   "cell_type": "markdown",
   "metadata": {
    "jupyter": {
     "outputs_hidden": false
    },
    "pycharm": {
     "is_executing": false,
     "name": "#%%\n"
    }
   },
   "source": [
    "### Clusters found"
   ]
  },
  {
   "cell_type": "code",
   "execution_count": null,
   "metadata": {
    "jupyter": {
     "source_hidden": true
    },
    "pycharm": {
     "is_executing": false
    }
   },
   "outputs": [],
   "source": [
    "display(clusters[['size','events','score','ips_sorted','MENTAT','tags','types','origins']].sort_values(ascending=False, by=['score','size','events']).style.format({'ips_sorted': nerd_query_link_list, 'MENTAT': mentat_query_link}))"
   ]
  },
  {
   "cell_type": "markdown",
   "metadata": {
    "jupyter": {
     "outputs_hidden": false
    },
    "pycharm": {
     "is_executing": false,
     "name": "#%% md\n"
    }
   },
   "source": [
    "### Correlation pattern for all clusters"
   ]
  },
  {
   "cell_type": "code",
   "execution_count": null,
   "metadata": {
    "collapsed": false,
    "jupyter": {
     "outputs_hidden": false
    },
    "pycharm": {
     "is_executing": false,
     "name": "#%%\n"
    }
   },
   "outputs": [],
   "source": [
    "sns.heatmap(series)"
   ]
  },
  {
   "cell_type": "markdown",
   "metadata": {
    "pycharm": {
     "name": "#%% md\n"
    }
   },
   "source": [
    "## Selected significant clusters"
   ]
  },
  {
   "cell_type": "code",
   "execution_count": null,
   "metadata": {
    "collapsed": false,
    "jupyter": {
     "outputs_hidden": false
    },
    "pycharm": {
     "is_executing": false,
     "name": "#%%\n"
    }
   },
   "outputs": [],
   "source": [
    "display(clusters.loc[flows.index,['size','events','score','ips_sorted','MENTAT','tags','types','origins']].sort_values(ascending=False, by=['score','size','events']).style.format({'ips_sorted': nerd_query_link_list, 'MENTAT': mentat_query_link}))"
   ]
  },
  {
   "cell_type": "markdown",
   "metadata": {},
   "source": [
    "### Correlation pattern for selected clusters"
   ]
  },
  {
   "cell_type": "code",
   "execution_count": null,
   "metadata": {
    "collapsed": false,
    "jupyter": {
     "outputs_hidden": false
    },
    "pycharm": {
     "is_executing": false,
     "name": "#%%\n"
    }
   },
   "outputs": [],
   "source": [
    "sns.heatmap(series.loc[flows.index])"
   ]
  },
  {
   "cell_type": "markdown",
   "metadata": {
    "jupyter": {
     "outputs_hidden": false
    },
    "pycharm": {
     "is_executing": false,
     "name": "#%% md\n"
    }
   },
   "source": [
    "## Flow data views \n",
    "* Quick reminder of cluster info\n",
    "* Flow data aggregated by srcip, where ip_count and ip_top shows statistics for dstip (count of unique and most frequent values)\n",
    "* Flow data aggregated by srcport --//--"
   ]
  },
  {
   "cell_type": "code",
   "execution_count": null,
   "metadata": {
    "pycharm": {
     "is_executing": false,
     "name": "#%%\n"
    }
   },
   "outputs": [],
   "source": [
    "cluster_idx=flows.index[9] # Change here from 0-9\n",
    "\n",
    "temp = flows[cluster_idx].reset_index(drop=True)\n",
    "display(clusters.loc[cluster_idx,['size','events','ips_sorted','tags']].to_frame().T.style.format({'ips_sorted': nerd_query_link_list}))\n",
    "\n",
    "X = srcip[cluster_idx]\n",
    "X['NERD'] = srcip[cluster_idx].index\n",
    "\n",
    "max_rows=50\n",
    "with pd.option_context('display.max_rows', max_rows, 'display.min_rows', max_rows):\n",
    "    display(srcip[cluster_idx].head(max_rows)[[X.columns[-1]]+list(X.columns[:-1])].style.format({'NERD': nerd_query_link})) "
   ]
  },
  {
   "cell_type": "code",
   "execution_count": null,
   "metadata": {
    "pycharm": {
     "is_executing": false
    }
   },
   "outputs": [],
   "source": [
    "with pd.option_context('display.max_rows', max_rows, 'display.min_rows', max_rows):\n",
    "    display(srcport[cluster_idx]) "
   ]
  },
  {
   "cell_type": "code",
   "execution_count": null,
   "metadata": {
    "pycharm": {
     "is_executing": false
    }
   },
   "outputs": [],
   "source": [
    "with pd.option_context('display.max_rows', None):#, 'display.min_rows', max_rows):\n",
    "    display(nerd.loc[nerd['cluster']==cluster_idx,:])"
   ]
  },
  {
   "cell_type": "code",
   "execution_count": null,
   "metadata": {
    "pycharm": {
     "is_executing": false,
     "name": "#%%\n"
    }
   },
   "outputs": [],
   "source": [
    "max_rows=100\n",
    "with pd.option_context('display.max_rows', max_rows, 'display.min_rows', max_rows):\n",
    "    display(temp.sample(100))#.style.format({'srcip': lambda cluster_idx: nerd_query_link_ip(x), 'dstip': lambda x: nerd_query_link_ip(x)}))\n",
    "    #display(temp.style.format({'srcip': lambda cluster_idx: nerd_query_link_list([x]), 'dstip': lambda x: nerd_query_link_list([x])}))"
   ]
  },
  {
   "cell_type": "code",
   "execution_count": null,
   "metadata": {
    "pycharm": {
     "is_executing": false
    }
   },
   "outputs": [],
   "source": []
  },
  {
   "cell_type": "code",
   "execution_count": null,
   "metadata": {
    "pycharm": {
     "is_executing": false
    }
   },
   "outputs": [],
   "source": []
  }
 ],
 "metadata": {
  "kernelspec": {
   "display_name": "PyCharm (SECT)",
   "language": "python",
   "name": "pycharm-eb4f6875"
  },
  "language_info": {
   "codemirror_mode": {
    "name": "ipython",
    "version": 3
   },
   "file_extension": ".py",
   "mimetype": "text/x-python",
   "name": "python",
   "nbconvert_exporter": "python",
   "pygments_lexer": "ipython3",
   "version": "3.6.7"
  },
  "pycharm": {
   "stem_cell": {
    "cell_type": "raw",
    "source": [],
    "metadata": {
     "collapsed": false
    }
   }
  }
 },
 "nbformat": 4,
 "nbformat_minor": 4
}