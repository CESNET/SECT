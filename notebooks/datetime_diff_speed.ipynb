{
 "cells": [
  {
   "cell_type": "markdown",
   "metadata": {
    "collapsed": true,
    "pycharm": {
     "name": "#%% md\n"
    }
   },
   "source": [
    "# Experiments with datetime speeds\n",
    "## Speed of loading time to datetime object\n",
    "%Timeit proposes that when dealing with datetime do not load formatted date\n",
    "rather use fromisoformat or fromtimestamp\n",
    "\n",
    "| constructor | time | relative to fastest |\n",
    "|---|---| --- |\n",
    "| fromisoformat | 350 ns | x |\n",
    "| timestamp | 850 ns | 2.42 |\n",
    "| strptime | 20 000 ns | 57.14 |\n",
    "\n",
    "When calculating time difference of two times in variables\n",
    "\n",
    "|method|time|relative to fastest|\n",
    "|---|---| --- |\n",
    "|numbers in vars| 85 ns | x |\n",
    "|objects|150 ns| 2 |\n",
    "|obj.total_seconds()|430 ns| 5 |\n",
    "|int(obj.ts())|600 ns| 7 |\n",
    "\n",
    "## Do i rewrite?\n",
    "Is it better to store timestamps? Avoiding conversion to datetime for difference in\n",
    "seconds, definitely yes. \n",
    "Is it worth harder readability? I suppose so. \n",
    "## ...more insights\n",
    " \n",
    "\n",
    "### Data log from"
   ]
  },
  {
   "cell_type": "code",
   "execution_count": 2,
   "outputs": [],
   "source": [
    "import datetime"
   ],
   "metadata": {
    "collapsed": false,
    "pycharm": {
     "name": "#%%\n",
     "is_executing": false
    }
   }
  },
  {
   "cell_type": "code",
   "execution_count": 6,
   "outputs": [
    {
     "name": "stdout",
     "text": [
      "16.6 µs ± 1.23 µs per loop (mean ± std. dev. of 7 runs, 100000 loops each)\n",
      "18.2 µs ± 5.87 µs per loop (mean ± std. dev. of 7 runs, 100000 loops each)\n"
     ],
     "output_type": "stream"
    }
   ],
   "source": [
    "%timeit datetime.datetime.strptime('2019-03-10 23:34:42', '%Y-%m-%d %H:%M:%S')\n",
    "%timeit datetime.datetime.strptime(timestr, '%Y-%m-%d %H:%M:%S')\n"
   ],
   "metadata": {
    "collapsed": false,
    "pycharm": {
     "name": "#%%\n",
     "is_executing": false
    }
   }
  },
  {
   "cell_type": "code",
   "execution_count": 5,
   "outputs": [
    {
     "name": "stdout",
     "text": [
      "13.7 ns ± 2.08 ns per loop (mean ± std. dev. of 7 runs, 100000000 loops each)\n",
      "99.3 ns ± 35.7 ns per loop (mean ± std. dev. of 7 runs, 10000000 loops each)\n",
      "83.3 ns ± 5.29 ns per loop (mean ± std. dev. of 7 runs, 10000000 loops each)\n",
      "1.09 µs ± 147 ns per loop (mean ± std. dev. of 7 runs, 1000000 loops each)\n",
      "1.22 µs ± 301 ns per loop (mean ± std. dev. of 7 runs, 100000 loops each)\n",
      "579 ns ± 113 ns per loop (mean ± std. dev. of 7 runs, 1000000 loops each)\n",
      "464 ns ± 169 ns per loop (mean ± std. dev. of 7 runs, 1000000 loops each)\n",
      "159 ns ± 28.7 ns per loop (mean ± std. dev. of 7 runs, 10000000 loops each)\n",
      "488 ns ± 36 ns per loop (mean ± std. dev. of 7 runs, 1000000 loops each)\n",
      "764 ns ± 100 ns per loop (mean ± std. dev. of 7 runs, 1000000 loops each)\n",
      "809 ns ± 36.1 ns per loop (mean ± std. dev. of 7 runs, 1000000 loops each)\n"
     ],
     "output_type": "stream"
    }
   ],
   "source": [
    "A = datetime.datetime.strptime('2019-03-10 23:34:42', '%Y-%m-%d %H:%M:%S')\n",
    "B = datetime.datetime.fromisoformat('2019-03-10T23:54:42')\n",
    "\n",
    "timestr = str(A)\n",
    "timest = A.timestamp()\n",
    "\n",
    "A=datetime.datetime.fromisoformat('2019-03-10T23:34:42')\n",
    "B=datetime.datetime.fromisoformat('2019-03-10T23:54:42')\n",
    "\n",
    "%timeit 10000030303-1993909302\n",
    "\n",
    "C=1003022323\n",
    "%timeit 1000003030-C\n",
    "\n",
    "D=1013322323\n",
    "%timeit D-C\n",
    "\n",
    "\n",
    "%timeit datetime.datetime.fromtimestamp(10020020)\n",
    "%timeit datetime.datetime.fromtimestamp(timest)\n",
    "\n",
    "%timeit datetime.datetime.fromisoformat('2019-03-10T23:34:42')\n",
    "%timeit datetime.datetime.fromisoformat(timestr)\n",
    "\n",
    "%timeit A-B #objects\n",
    "\n",
    "A-B\n",
    "\n",
    "%timeit (A-B).total_seconds()\n",
    "\n",
    "(A-B).total_seconds()\n",
    "\n",
    "%timeit int((A-B).total_seconds())\n",
    "\n",
    "int((A-B).total_seconds())\n",
    "\n",
    "E=datetime.datetime.fromisoformat('2019-03-10T23:54:42')\n",
    "%timeit E=datetime.datetime.fromisoformat('2019-03-10T23:54:42').timestamp()\n",
    "\n"
   ],
   "metadata": {
    "collapsed": false,
    "pycharm": {
     "name": "#%%\n",
     "is_executing": false
    }
   }
  }
 ],
 "metadata": {
  "language_info": {
   "codemirror_mode": {
    "name": "ipython",
    "version": 2
   },
   "file_extension": ".py",
   "mimetype": "text/x-python",
   "name": "python",
   "nbconvert_exporter": "python",
   "pygments_lexer": "ipython2",
   "version": "2.7.6"
  },
  "kernelspec": {
   "name": "python3",
   "language": "python",
   "display_name": "Python 3"
  },
  "pycharm": {
   "stem_cell": {
    "cell_type": "raw",
    "source": [],
    "metadata": {
     "collapsed": false
    }
   }
  }
 },
 "nbformat": 4,
 "nbformat_minor": 0
}