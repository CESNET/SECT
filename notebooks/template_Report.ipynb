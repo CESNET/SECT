{
 "cells": [
  {
   "cell_type": "code",
   "execution_count": null,
   "metadata": {
    "collapsed": true,
    "pycharm": {
     "name": "#%%\n"
    }
   },
   "outputs": [],
   "source": [
    "%pwd  #look at the current work dir\n",
    "#%cd C:/Users/istoffa/Repos/SECT\n",
    "\n",
    "import sys\n",
    "sys.path.append('%homepath%/Repos/SECT')\n",
    "\n",
    "%matplotlib inline\n",
    "\n",
    "#dataproc\n",
    "import numpy as np\n",
    "import pandas as pd\n",
    "import datetime\n",
    "\n",
    "import umap\n",
    "import hdbscan\n",
    "\n",
    "#plotting\n",
    "import matplotlib.pyplot as plt\n",
    "import seaborn as sns\n",
    "import plotly.offline as pyo\n",
    "import plotly.graph_objs as go\n",
    "from IPython.display import display, HTML\n",
    "\n",
    "# Set notebook mode to work in offline\n",
    "#from scipy.cluster.hierarchy import dendrogram, linkage\n",
    "\n",
    "#SECT code\n",
    "import utils\n",
    "import TemporalClusterer\n",
    "import dCollector as dC\n",
    "import graphing\n",
    "\n",
    "#utils\n",
    "from pathlib import Path\n",
    "import urllib.parse"
   ]
  },
  {
   "cell_type": "code",
   "execution_count": null,
   "outputs": [],
   "source": [
    "sns.set(style='white', context='notebook', rc={'figure.figsize':(14,10)})\n",
    "\n",
    "pd.set_option('display.max_rows', 30)\n",
    "pd.set_option('display.max_columns', None)\n",
    "pd.set_option('display.max_colwidth', None)  # more options can be specified also\n",
    "\n",
    "pyo.init_notebook_mode()"
   ],
   "metadata": {
    "collapsed": false,
    "pycharm": {
     "name": "#%%\n"
    }
   }
  },
  {
   "cell_type": "markdown",
   "source": [
    "## Arguments"
   ],
   "metadata": {
    "collapsed": false,
    "pycharm": {
     "name": "#%% md\n"
    }
   }
  },
  {
   "cell_type": "code",
   "execution_count": null,
   "outputs": [],
   "source": [
    "data_loc='data/groups/'\n",
    "#data_loc='Z:\\\\SECT\\\\results\\\\'\n",
    "\n",
    "analysis_date='2020-03-12_2020-03-18' #starts at beginning of day, ends at the end\n",
    "freq = '1D'"
   ],
   "metadata": {
    "collapsed": false,
    "pycharm": {
     "name": "#%%\n"
    }
   }
  },
  {
   "cell_type": "code",
   "execution_count": null,
   "outputs": [],
   "source": [
    "dt_from, dt_to, dirname = utils.parse_analysis_date(analysis_date)\n",
    "\n",
    "path=f\"{data_loc}/{dirname}_{freq}/\"\n",
    "\n",
    "print(f'Reading data in: {path}')\n",
    "\n",
    "#load data \n",
    "dfdict = utils.load_named_df(path, [])\n"
   ],
   "metadata": {
    "collapsed": false,
    "pycharm": {
     "name": "#%% \n"
    }
   }
  },
  {
   "cell_type": "code",
   "execution_count": null,
   "outputs": [],
   "source": [],
   "metadata": {
    "collapsed": false,
    "pycharm": {
     "name": "#%% \n"
    }
   }
  }
 ],
 "metadata": {
  "kernelspec": {
   "display_name": "Python 3",
   "language": "python",
   "name": "python3"
  },
  "language_info": {
   "codemirror_mode": {
    "name": "ipython",
    "version": 2
   },
   "file_extension": ".py",
   "mimetype": "text/x-python",
   "name": "python",
   "nbconvert_exporter": "python",
   "pygments_lexer": "ipython2",
   "version": "2.7.6"
  },
  "pycharm": {
   "stem_cell": {
    "cell_type": "raw",
    "source": [],
    "metadata": {
     "collapsed": false
    }
   }
  }
 },
 "nbformat": 4,
 "nbformat_minor": 0
}