{
 "cells": [
  {
   "cell_type": "code",
   "execution_count": 1,
   "metadata": {
    "collapsed": true,
    "pycharm": {
     "name": "#%%\n",
     "is_executing": false
    }
   },
   "outputs": [
    {
     "name": "stderr",
     "text": [
      "C:\\ProgramData\\Anaconda3\\envs\\temporal_event_corr\\lib\\site-packages\\sklearn\\externals\\six.py:31: DeprecationWarning: The module is deprecated in version 0.21 and will be removed in version 0.23 since we've dropped support for Python 2.7. Please rely on the official version of six (https://pypi.org/project/six/).\n  \"(https://pypi.org/project/six/).\", DeprecationWarning)\nC:\\ProgramData\\Anaconda3\\envs\\temporal_event_corr\\lib\\site-packages\\sklearn\\externals\\joblib\\__init__.py:15: DeprecationWarning: sklearn.externals.joblib is deprecated in 0.21 and will be removed in 0.23. Please import this functionality directly from joblib, which can be installed with: pip install joblib. If this warning is raised when loading pickled models, you may need to re-serialize those models with scikit-learn 0.21+.\n  warnings.warn(msg, category=DeprecationWarning)\n"
     ],
     "output_type": "stream"
    }
   ],
   "source": [
    "from preprocess import *\n",
    "\n",
    "#from fastdtw import fastdtw\n",
    "from dtaidistance import dtw\n",
    "\n",
    "import umap\n",
    "import hdbscan\n",
    "import sklearn.cluster as cluster\n",
    "from sklearn.metrics import adjusted_rand_score, adjusted_mutual_info_score\n",
    "\n",
    "import matplotlib.pyplot as plt\n",
    "import seaborn as sns\n",
    "%matplotlib inline\n",
    "\n",
    "sns.set(style='white', context='notebook', rc={'figure.figsize':(14,10)})"
   ]
  },
  {
   "cell_type": "code",
   "execution_count": 4,
   "outputs": [],
   "source": [
    "df = pd.read_csv('../data/2019-08-01_test2.csv')\n",
    "A = get_aggregated(df, '2019-08-01 12:00:00','2019-08-01 12:30:00')\n",
    "B = A[A['timestamp', 'count'] > 5]\n",
    "\n",
    "signals = [get_series((B.iloc[x, 0]-min(B.iloc[x, 0])).astype(np.int32), (1+max(B.iloc[x, 0])-min(B.iloc[x, 0])).astype(np.int32))\n",
    "           for x in range(0, len(B))]\n",
    "\n",
    "names = [B.iloc[x,:].name\n",
    "           for x in range(0, len(B))]\n",
    "\n",
    "Xtr, Xts, Ytr, Yts = train_test_split(signals, list(range(len(signals))), test_size=0.1)\n",
    "\n",
    "pairwise = np.zeros([len(signals),len(signals)])\n",
    "#faster = [np.array(x, dtype=np.double) for x in range(0, len(Xtr))]\n",
    "for x in range(0, 10):\n",
    "    for y in range(x+1, 10):\n",
    "        distance = dtw.distance((signals[x]), (signals[y]), penalty=1, window=60) # optimize\n",
    "        pairwise[x, y] = distance\n",
    "        pairwise[y, x] = distance"
   ],
   "metadata": {
    "collapsed": false,
    "pycharm": {
     "name": "#%%\n",
     "is_executing": false
    }
   }
  },
  {
   "cell_type": "code",
   "execution_count": null,
   "outputs": [],
   "source": [
    "clusterable_embedding = umap.UMAP(\n",
    "    n_neighbors=30,\n",
    "    min_dist=0.0,\n",
    "    n_components=2,\n",
    "    random_state=42,\n",
    ").fit_transform(distance)\n",
    "\n",
    "\n",
    "plt.scatter(clusterable_embedding[:, 0], clusterable_embedding[:, 1],\n",
    "            c=list(range(0,100)), s=0.1, cmap='Spectral')\n",
    "\n",
    "labels = hdbscan.HDBSCAN(\n",
    "    min_samples=3,\n",
    "    min_cluster_size=5,\n",
    ").fit_predict(clusterable_embedding)\n",
    "\n",
    "clustered = (labels >= 0)\n",
    "plt.scatter(clusterable_embedding[~clustered, 0],\n",
    "            clusterable_embedding[~clustered, 1],\n",
    "            c=(0.5, 0.5, 0.5),\n",
    "            #s=0.1,\n",
    "            alpha=0.5)\n",
    "plt.scatter(clusterable_embedding[clustered, 0],\n",
    "            clusterable_embedding[clustered, 1],\n",
    "            c=labels[clustered],\n",
    "            #s=0.1,\n",
    "            cmap='Spectral')\n"
   ],
   "metadata": {
    "collapsed": false,
    "pycharm": {
     "name": "#%%\n"
    }
   }
  }
 ],
 "metadata": {
  "language_info": {
   "codemirror_mode": {
    "name": "ipython",
    "version": 2
   },
   "file_extension": ".py",
   "mimetype": "text/x-python",
   "name": "python",
   "nbconvert_exporter": "python",
   "pygments_lexer": "ipython2",
   "version": "2.7.6"
  },
  "kernelspec": {
   "name": "python3",
   "language": "python",
   "display_name": "Python 3"
  },
  "pycharm": {
   "stem_cell": {
    "cell_type": "raw",
    "source": [],
    "metadata": {
     "collapsed": false
    }
   }
  }
 },
 "nbformat": 4,
 "nbformat_minor": 0
}