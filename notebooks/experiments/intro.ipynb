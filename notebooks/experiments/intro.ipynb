{
 "cells": [
  {
   "cell_type": "markdown",
   "source": [
    "# Analýza bezpečnostných udalostí\n",
    "## ...k aktuálnemu stavu riešenia"
   ],
   "metadata": {
    "collapsed": false,
    "pycharm": {
     "name": "#%% md\n"
    }
   }
  },
  {
   "cell_type": "code",
   "execution_count": 3,
   "outputs": [
    {
     "name": "stderr",
     "text": [
      "C:\\ProgramData\\Anaconda3\\envs\\temporal_event_corr\\lib\\site-packages\\sklearn\\externals\\six.py:31: DeprecationWarning: The module is deprecated in version 0.21 and will be removed in version 0.23 since we've dropped support for Python 2.7. Please rely on the official version of six (https://pypi.org/project/six/).\n  \"(https://pypi.org/project/six/).\", DeprecationWarning)\nC:\\ProgramData\\Anaconda3\\envs\\temporal_event_corr\\lib\\site-packages\\sklearn\\externals\\joblib\\__init__.py:15: DeprecationWarning: sklearn.externals.joblib is deprecated in 0.21 and will be removed in 0.23. Please import this functionality directly from joblib, which can be installed with: pip install joblib. If this warning is raised when loading pickled models, you may need to re-serialize those models with scikit-learn 0.21+.\n  warnings.warn(msg, category=DeprecationWarning)\n"
     ],
     "output_type": "stream"
    }
   ],
   "source": [
    "%matplotlib inline\n",
    "import matplotlib.pyplot as plt\n",
    "\n",
    "import TemporalClusterer as tc\n",
    "\n",
    "import numpy as np\n",
    "import pandas as pd\n",
    "\n",
    "from sklearn.decomposition import PCA\n",
    "from umap import UMAP\n",
    "\n",
    "import datetime\n",
    "import sklearn.cluster as cluster\n",
    "from sklearn.metrics import adjusted_rand_score, adjusted_mutual_info_score\n",
    "\n",
    "import seaborn as sns\n",
    "from preprocess import *"
   ],
   "metadata": {
    "collapsed": false,
    "pycharm": {
     "name": "#%%\n",
     "is_executing": false
    }
   }
  },
  {
   "cell_type": "code",
   "execution_count": 4,
   "outputs": [],
   "source": [
    "sns.set(style='white', context='notebook', rc={'figure.figsize': (14, 10)})"
   ],
   "metadata": {
    "collapsed": false,
    "pycharm": {
     "name": "#%%\n",
     "is_executing": false
    }
   }
  },
  {
   "cell_type": "markdown",
   "source": [
    "## Motivace\n",
    "Detektory na cesnet sieti generujú bezpečnostné události. Predpokladáme že, na sieti dochádza ku koordinovaným útokom a \n",
    "analýza časov príchodov udalosti vie odhaliť skupiny útočiacich adries. \n",
    "\n",
    "...\n",
    "\n",
    "Počet aktívnych adries v jednom dni sa drží na úrovni miliónov.    \n",
    "GRAF z niektorej "
   ],
   "metadata": {
    "collapsed": false,
    "pycharm": {
     "name": "#%% md\n"
    }
   }
  },
  {
   "cell_type": "code",
   "execution_count": 5,
   "outputs": [],
   "source": [
    "df = pd.read_pickle('../data/2019-08-28.pcl')\n",
    "\n",
    "tfrom = datetime.datetime.fromisoformat('2019-08-28 00:00:00').timestamp()\n",
    "tto = datetime.datetime.fromisoformat('2019-08-28 23:59:55').timestamp()\n",
    "\n",
    "df = df.loc[(df['timestamp'] >= tfrom) & (df['timestamp'] < tto), :]\n",
    "\n",
    "#c = tc.TemporalClusterer()\n",
    "#df['labels'] = c.fit_transform(df, [])"
   ],
   "metadata": {
    "collapsed": false,
    "pycharm": {
     "name": "#%%\n",
     "is_executing": false
    }
   }
  },
  {
   "cell_type": "markdown",
   "source": [
    "## Problém\n",
    "Data z detektorov sa koncentrujú do textových súborov vo formáte IDEA. Tento nie je vhodný na priamu analýzu a teda data\n",
    "sa musia predspracovať. \n",
    "\n",
    "* ### Preprocessing\n",
    "Prevod na lepšie strojovo spracovatelný format z tohto: \n",
    "\n",
    "{\"Category\": [\"Recon.Scanning\"], \"Node\": [{\"Type\": [\"Relay\"], \"Name\": \"cz.cesnet.au1.warden_filer\"}, {\"SW\": [\"LaBrea\"], \"Type\": [\"Connection\", \"Tarpit\"], \"Name\": \"cz.cesnet.tarpit\"}], \"EventTime\": \"2019-07-31T21:44:55Z\", \"Target\": [{\"Port\": [23], \"IP4\": [\"195.113.255.137\"], \"Proto\": [\"tcp\"]}], \"ConnCount\": 1, \"Format\": \"IDEA0\", \"_CESNET\": {\"EventTemplate\": \"labrea-001\"}, \"CeaseTime\": \"2019-07-31T21:44:55Z\", \"Note\": \"Connections from remote host to never assigned IP\", \"Source\": [{\"Port\": [53011], \"IP4\": [\"113.70.212.84\"], \"Proto\": [\"tcp\"]}], \"DetectTime\": \"2019-07-31T21:59:56Z\", \"ID\": \"0bee3bce-8328-4368-b529-456a8e171244\", \"Description\": \"TCP connections/scan\"}\n",
    "\n",
    "na format zjednodušene reprezentujuci událosť ktorý zachováva len pre dalšie spracovanie dôležité a využitelné informácie,\n",
    " pričom nás bude zaujímať najmä IP a časová značka.\n",
    " "
   ],
   "metadata": {
    "collapsed": false,
    "pycharm": {
     "name": "#%% md\n"
    }
   }
  },
  {
   "cell_type": "code",
   "execution_count": 6,
   "outputs": [
    {
     "data": {
      "text/plain": "                   ip   timestamp                              origin  \\\n571     51.89.173.145  1566943209    cz.cesnet.ids_collector.suricata   \n661      78.31.71.111  1566943209     cz.cesnet.collector_nemea.filer   \n724    88.146.250.170  1566943207  cz.muni.ics.csirt.nemea.bruteforce   \n880    147.229.27.169  1566943224    cz.cesnet.ids_collector.suricata   \n1036  195.206.105.217  1566943230     cz.cesnet.collector_nemea.filer   \n\n                  type    line  \n571   Availability.DoS  373993  \n661      Attempt.Login  438997  \n724      Attempt.Login  476617  \n880   Availability.DoS  592944  \n1036     Attempt.Login  698916  ",
      "text/html": "<div>\n<style scoped>\n    .dataframe tbody tr th:only-of-type {\n        vertical-align: middle;\n    }\n\n    .dataframe tbody tr th {\n        vertical-align: top;\n    }\n\n    .dataframe thead th {\n        text-align: right;\n    }\n</style>\n<table border=\"1\" class=\"dataframe\">\n  <thead>\n    <tr style=\"text-align: right;\">\n      <th></th>\n      <th>ip</th>\n      <th>timestamp</th>\n      <th>origin</th>\n      <th>type</th>\n      <th>line</th>\n    </tr>\n  </thead>\n  <tbody>\n    <tr>\n      <th>571</th>\n      <td>51.89.173.145</td>\n      <td>1566943209</td>\n      <td>cz.cesnet.ids_collector.suricata</td>\n      <td>Availability.DoS</td>\n      <td>373993</td>\n    </tr>\n    <tr>\n      <th>661</th>\n      <td>78.31.71.111</td>\n      <td>1566943209</td>\n      <td>cz.cesnet.collector_nemea.filer</td>\n      <td>Attempt.Login</td>\n      <td>438997</td>\n    </tr>\n    <tr>\n      <th>724</th>\n      <td>88.146.250.170</td>\n      <td>1566943207</td>\n      <td>cz.muni.ics.csirt.nemea.bruteforce</td>\n      <td>Attempt.Login</td>\n      <td>476617</td>\n    </tr>\n    <tr>\n      <th>880</th>\n      <td>147.229.27.169</td>\n      <td>1566943224</td>\n      <td>cz.cesnet.ids_collector.suricata</td>\n      <td>Availability.DoS</td>\n      <td>592944</td>\n    </tr>\n    <tr>\n      <th>1036</th>\n      <td>195.206.105.217</td>\n      <td>1566943230</td>\n      <td>cz.cesnet.collector_nemea.filer</td>\n      <td>Attempt.Login</td>\n      <td>698916</td>\n    </tr>\n  </tbody>\n</table>\n</div>"
     },
     "metadata": {},
     "output_type": "execute_result",
     "execution_count": 6
    }
   ],
   "source": [
    "df.head()"
   ],
   "metadata": {
    "collapsed": false,
    "pycharm": {
     "name": "#%% \n",
     "is_executing": false
    }
   }
  },
  {
   "cell_type": "markdown",
   "source": [
    "* ### Agregácia do časových sérií\n",
    "\n",
    "Pre účely vyhľadávania skupín s podobným vzorom komunikácie je treba pohľad na komunikácie IP adries v čase. Je treba\n",
    "zvolit vhodné časové rozlíšenie, aby bol výpočet realizovateľný z hľadiska pamäťového a časového obmedzenia. Na teraz\n",
    "uchovavame len bool hodnotu pre daný časový slot, teda stráca sa informácie o počte udalostí v danom slote. To bude \n",
    "riešené neskor.  "
   ],
   "metadata": {
    "collapsed": false,
    "pycharm": {
     "name": "#%% md\n"
    }
   }
  },
  {
   "cell_type": "code",
   "execution_count": 10,
   "outputs": [
    {
     "name": "stdout",
     "text": [
      "ip\n1.0.111.127    [10, 19, 23, 28, 32, 34, 36, 37, 41]\n1.0.135.241                                [21, 22]\n1.0.144.100                                    [80]\n1.0.148.171                                    [29]\n1.0.148.75                                 [73, 74]\nName: list, dtype: object\n"
     ],
     "output_type": "stream"
    },
    {
     "data": {
      "text/plain": "ip\n1.0.111.127    [False, False, False, False, False, False, Fal...\n1.0.135.241    [False, False, False, False, False, False, Fal...\n1.0.144.100    [False, False, False, False, False, False, Fal...\n1.0.148.171    [False, False, False, False, False, False, Fal...\n1.0.148.75     [False, False, False, False, False, False, Fal...\nName: series, dtype: object"
     },
     "metadata": {},
     "output_type": "execute_result",
     "execution_count": 10
    }
   ],
   "source": [
    "df['quarters'] = np.floor((df.timestamp - tfrom)/(15*60)).astype(np.int)\n",
    "df = df.loc[(df['quarters'] >= 0),:]# & (df['timestamp'] < tto), :]\n",
    "\n",
    "dfc = df.groupby('ip')['quarters'].agg([list,'count'])\n",
    "print(dfc.list.head())\n",
    "dfc['series'] = dfc.list.apply(get_bin_series, args=[24*4])\n",
    "dfc.series.head()"
   ],
   "metadata": {
    "collapsed": false,
    "pycharm": {
     "name": "#%% \n",
     "is_executing": false
    }
   }
  },
  {
   "cell_type": "markdown",
   "source": [
    "* ### Klastrovanie\n",
    "    Vstupom sú bool vektory, pre každú ip rovnakej dĺžky. V tomto ktoku je výhodne vykonať filtrovanie dát ke zníženie\n",
    "    náročnosti výpočtu pairwise matice. \n",
    "    Výpočet pairwise distance matrice s vhodnou metrikou. O čo sa snžíme je nájst IP adresy ktoré komunikovali v\n",
    "    rovnakých časových oknách, pričom rozdiely sa budú premietať do vzdialenosti. \n",
    "    \n",
    "    Na toto je vhodná Jaccard metrika: \n",
    "    \n",
    "    1 - len(A union B) / len(A prod B) \n",
    "    "
   ],
   "metadata": {
    "collapsed": false,
    "pycharm": {
     "name": "#%% md\n"
    }
   }
  },
  {
   "cell_type": "code",
   "execution_count": null,
   "outputs": [],
   "source": [
    "   "
   ],
   "metadata": {
    "collapsed": false,
    "pycharm": {
     "name": "#%%\n"
    }
   }
  },
  {
   "cell_type": "markdown",
   "source": [
    "Po spočítaní pairwise matice je dalej možné odstrániť nepodobné ip adresy a zjednodušiť tak prácu klastovaciemu algoritmu\n",
    "Zvolí sa miniálny počet IP adries v klastre, zníži sa pravdepodobnosť náhodnej korelácie     \n",
    "* ### Verifikacia klastrov\n",
    "    Ešte nie je vyreišená\n",
    "    \n",
    "    Znova presnejšie klastro\n",
    "## Limitácie\n",
    "\n",
    "Monitorovacia pipeline zanša do dát artefakty \n",
    "    \n",
    "Je vyriešené ...\n",
    "\n",
    "## Plány\n"
   ],
   "metadata": {
    "collapsed": false,
    "pycharm": {
     "name": "#%% md\n"
    }
   }
  }
 ],
 "metadata": {
  "language_info": {
   "codemirror_mode": {
    "name": "ipython",
    "version": 2
   },
   "file_extension": ".py",
   "mimetype": "text/x-python",
   "name": "python",
   "nbconvert_exporter": "python",
   "pygments_lexer": "ipython2",
   "version": "2.7.6"
  },
  "kernelspec": {
   "name": "python3",
   "language": "python",
   "display_name": "Python 3"
  },
  "pycharm": {
   "stem_cell": {
    "cell_type": "raw",
    "source": [],
    "metadata": {
     "collapsed": false
    }
   }
  }
 },
 "nbformat": 4,
 "nbformat_minor": 0
}