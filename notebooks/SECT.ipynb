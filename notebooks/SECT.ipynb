{
 "cells": [
  {
   "cell_type": "code",
   "execution_count": null,
   "metadata": {
    "pycharm": {
     "is_executing": false,
     "name": "#%%\n"
    }
   },
   "outputs": [],
   "source": [
    "%pwd  #look at the current work dir\n",
    "%cd C:/Users/istoffa/Repos/SECT\n",
    "\n",
    "import numpy as np\n",
    "import pandas as pd\n",
    "import datetime\n",
    "\n",
    "#import umap\n",
    "import hdbscan\n",
    "\n",
    "import matplotlib.pyplot as plt\n",
    "import seaborn as sns\n",
    "%matplotlib inline\n",
    "# Import the necessaries libraries\n",
    "import plotly.offline as pyo\n",
    "import plotly.graph_objs as go\n",
    "# Set notebook mode to work in offline\n",
    "#from scipy.cluster.hierarchy import dendrogram, linkage\n",
    "\n",
    "import utils\n",
    "import TemporalClusterer\n",
    "import dCollector as dC\n",
    "import graphing\n",
    "\n",
    "from pathlib import Path"
   ]
  },
  {
   "cell_type": "code",
   "execution_count": null,
   "metadata": {
    "pycharm": {
     "is_executing": false,
     "name": "#%% md \n"
    }
   },
   "outputs": [],
   "source": [
    "## Arguments"
   ]
  },
  {
   "cell_type": "code",
   "execution_count": null,
   "metadata": {
    "pycharm": {
     "is_executing": false,
     "name": "#%%\n"
    }
   },
   "outputs": [],
   "source": [
    "sns.set(style='white', context='notebook', rc={'figure.figsize':(14,10)})\n",
    "pyo.init_notebook_mode()\n",
    "\n",
    "dataLoc='Z:\\SECT'\n",
    "tFrom='2020-02-12'\n",
    "tTo='2020-02-12'\n",
    "min_events=10\n",
    "max_activity=0.7\n",
    "dist_threshold=0.1"
   ]
  },
  {
   "cell_type": "code",
   "execution_count": null,
   "metadata": {
    "pycharm": {
     "is_executing": false
    }
   },
   "outputs": [],
   "source": [
    "#Load preprocessed files\n",
    "(df, file_list) = utils.load_files(dataLoc, tFrom, tTo)\n",
    "\n",
    "tc = TemporalClusterer.TemporalClusterer(min_events=min_events, max_activity=max_activity, dist_threshold=dist_threshold, min_cluster_size=7)\n",
    "\n",
    "df['labels'] = tc.fit_transform(df, [])\n",
    "\n",
    "(clusters, series) = tc.post_process(df, file_list)"
   ]
  },
  {
   "cell_type": "code",
   "execution_count": null,
   "metadata": {
    "pycharm": {
     "is_executing": false,
     "name": "#%%\n"
    }
   },
   "outputs": [],
   "source": [
    "print(clusters[['events', 'min_activity', 'min_blocks', 'tfrom', 'tto', 'origins', 'types']])\n",
    "clusters[['events', 'min_activity', 'min_blocks', 'tfrom', 'tto', 'origins', 'types']].hist()"
   ]
  },
  {
   "cell_type": "code",
   "execution_count": null,
   "metadata": {
    "pycharm": {
     "is_executing": false,
     "name": "#%%\n"
    }
   },
   "outputs": [],
   "source": [
    "clusters[['ips', 'size']]"
   ]
  },
  {
   "cell_type": "code",
   "execution_count": null,
   "metadata": {
    "pycharm": {
     "is_executing": false,
     "name": "#%%\n"
    }
   },
   "outputs": [],
   "source": [
    "sns.heatmap(series.apply(lambda x: np.multiply(x,clusters['size']),axis=0))"
   ]
  },
  {
   "cell_type": "code",
   "execution_count": null,
   "outputs": [],
   "source": [
    "sns.heatmap(series)"
   ],
   "metadata": {
    "collapsed": false,
    "pycharm": {
     "name": "#%%\n",
     "is_executing": false
    }
   }
  },
  {
   "cell_type": "code",
   "execution_count": null,
   "metadata": {
    "pycharm": {
     "is_executing": false,
     "name": "#%%\n"
    },
    "scrolled": true
   },
   "outputs": [],
   "source": [
    "topx=clusters.sort_values(ascending=False, by='size').head(5)\n",
    "#max=clusters.loc[clusters['size']==clusters['size'].max(),:].head(5)\n",
    "intervals = utils.sample_intervals(series.loc[topx.index,:],file_list[0],tc.aggregation)\n",
    "\n",
    "benefizio = dC.dc()\n",
    "filter = clusters.loc[topx.index,'ips'].apply(dC.dc_liberouter_filter_string).values[0]\n",
    "res=benefizio.filterFlows(filter, intervals[0][0][0], intervals[0][0][1])\n",
    "print(res.head())"
   ]
  },
  {
   "cell_type": "code",
   "execution_count": null,
   "metadata": {
    "pycharm": {
     "is_executing": false,
     "name": "#%%\n"
    }
   },
   "outputs": [],
   "source": [
    "fig = go.Figure(graphing.genSankey(res.sample(10),['srcip','dstip'],'packets','Sample of packet flows'))\n",
    "fig.show()"
   ]
  },
  {
   "cell_type": "code",
   "execution_count": null,
   "metadata": {
    "pycharm": {
     "is_executing": false,
     "name": "#%%\n"
    }
   },
   "outputs": [],
   "source": [
    "badIps = clusters.loc[topx.index,'ips']\n",
    "print(badIps)\n",
    "fig = go.Figure(graphing.genSankey(res.loc[res['srcip'].isin(list(badIps.values[0])),:],['srcip','proto'],\n",
    "                                   'packets', 'Communication by protocols'))\n",
    "fig.show()"
   ]
  },
  {
   "cell_type": "code",
   "execution_count": null,
   "metadata": {
    "pycharm": {
     "is_executing": false,
     "name": "#%%\n"
    }
   },
   "outputs": [],
   "source": [
    "#reducer = umap.UMAP()\n",
    "#embedding = reducer.fit_transform(res[['bytes','packets']])\n",
    "#sns.scatterplot(x=embedding[:][0], y=embedding[:][1])"
   ]
  },
  {
   "cell_type": "code",
   "execution_count": null,
   "metadata": {
    "pycharm": {
     "is_executing": false
    }
   },
   "outputs": [],
   "source": [
    "sns.lineplot(data=res[['bytes','packets']])"
   ]
  },
  {
   "cell_type": "code",
   "execution_count": null,
   "metadata": {
    "pycharm": {
     "is_executing": false,
     "name": "#%%\n"
    }
   },
   "outputs": [],
   "source": [
    "fig = go.Figure(graphing.genSankey(res.loc[res['srcip'].isin(list(badIps.values[0])),:].sample(20),['srcip','dstip'],'packets','Sample of packet flows'))\n",
    "fig.show()"
   ]
  },
  {
   "cell_type": "code",
   "execution_count": null,
   "metadata": {
    "jupyter": {
     "outputs_hidden": false
    },
    "pycharm": {
     "is_executing": false,
     "name": "#%%\n"
    }
   },
   "outputs": [],
   "source": [
    "res['bad'] = (res['srcip'].isin(list(badIps.values[0])))\n",
    "srcdstipflows=res.loc[(res['bad']==True),:].groupby(['srcip', 'dstip'])['packets'].agg('sum')\n",
    "vc=srcdstipflows.value_counts()\n",
    "vc.sort_values(inplace=True, ascending=False)\n",
    "print(vc.head())\n",
    "srcdstipflows.hist(log=False)"
   ]
  },
  {
   "cell_type": "code",
   "execution_count": null,
   "metadata": {
    "pycharm": {
     "is_executing": false
    }
   },
   "outputs": [],
   "source": [
    "dstipflows=res.loc[(res['bad']==False),:].groupby([ 'dstip', 'srcip'])['packets'].agg('count')\n",
    "\n",
    "vc=dstipflows.value_counts()\n",
    "vc.sort_values(inplace=True, ascending=False)\n",
    "print(vc.head())\n",
    "dstipflows.hist(log=False)\n"
   ]
  },
  {
   "cell_type": "code",
   "execution_count": null,
   "metadata": {
    "pycharm": {
     "is_executing": false
    }
   },
   "outputs": [],
   "source": [
    "pd.get_dummies(clusters['types'].apply(lambda x: tuple([y for y in [z for z in list(x)]])))\n"
   ]
  },
  {
   "cell_type": "code",
   "execution_count": null,
   "metadata": {
    "pycharm": {
     "is_executing": false
    }
   },
   "outputs": [],
   "source": [
    "a=clusters['types'].apply(lambda x: [y.replace('[','').replace(']','').replace(' ','').replace(\"'\",'').replace('\"','').split(',') for y in x])#.split(','))#a.value_counts()\n",
    "a=a.apply(lambda l: tuple(set([item for sublist in l for item in sublist])))\n",
    "a.apply(print)\n"
   ]
  },
  {
   "cell_type": "code",
   "execution_count": null,
   "metadata": {
    "pycharm": {
     "is_executing": false
    }
   },
   "outputs": [],
   "source": [
    "notScans=clusters.loc[(a!=('Recon.Scanning',)),['events', 'min_activity', 'min_blocks', 'tfrom', 'tto', 'origins', 'types']]\n",
    "notScans.apply(print, axis=1)\n",
    "notScans[['events', 'min_activity', 'min_blocks', 'tfrom', 'tto', 'origins', 'types']].hist()"
   ]
  },
  {
   "cell_type": "code",
   "execution_count": null,
   "metadata": {
    "pycharm": {
     "is_executing": false,
     "name": "#%%\n"
    }
   },
   "outputs": [],
   "source": [
    "res.describe()\n"
   ]
  },
  {
   "cell_type": "code",
   "execution_count": null,
   "metadata": {
    "pycharm": {
     "is_executing": false
    }
   },
   "outputs": [],
   "source": [
    "(res['first'].max()-res['first'].min())/60000"
   ]
  },
  {
   "cell_type": "code",
   "execution_count": null,
   "metadata": {
    "pycharm": {
     "is_executing": false
    }
   },
   "outputs": [],
   "source": []
  }
 ],
 "metadata": {
  "kernelspec": {
   "display_name": "PyCharm (SECT)",
   "language": "python",
   "name": "pycharm-9793f193"
  },
  "language_info": {
   "codemirror_mode": {
    "name": "ipython",
    "version": 3
   },
   "file_extension": ".py",
   "mimetype": "text/x-python",
   "name": "python",
   "nbconvert_exporter": "python",
   "pygments_lexer": "ipython3",
   "version": "3.6.7"
  },
  "pycharm": {
   "stem_cell": {
    "cell_type": "raw",
    "source": [],
    "metadata": {
     "collapsed": false
    }
   }
  }
 },
 "nbformat": 4,
 "nbformat_minor": 4
}