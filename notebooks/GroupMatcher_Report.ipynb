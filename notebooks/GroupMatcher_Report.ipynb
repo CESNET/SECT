{
 "cells": [
  {
   "cell_type": "code",
   "execution_count": null,
   "metadata": {
    "jupyter": {
     "source_hidden": true
    },
    "pycharm": {
     "is_executing": false,
     "name": "#%%\n"
    }
   },
   "outputs": [],
   "source": [
    "%pwd  #look at the current work dir\n",
    "%cd ~/Repos/SECT\n",
    "%matplotlib inline\n",
    "\n",
    "import sys\n",
    "sys.path.append('%homepath%/Repos/SECT')\n",
    "\n",
    "%matplotlib inline\n",
    "\n",
    "#dataproc\n",
    "import numpy as np\n",
    "import pandas as pd\n",
    "import datetime\n",
    "\n",
    "import umap\n",
    "import hdbscan\n",
    "\n",
    "#plotting\n",
    "import matplotlib.pyplot as plt\n",
    "import seaborn as sns\n",
    "import plotly.offline as pyo\n",
    "import plotly.graph_objs as go\n",
    "from IPython.display import display, HTML\n",
    "\n",
    "# Set notebook mode to work in offline\n",
    "#from scipy.cluster.hierarchy import dendrogram, linkage\n",
    "\n",
    "#SECT code\n",
    "import utils\n",
    "import TemporalClusterer\n",
    "import dCollector as dC\n",
    "import graphing\n",
    "\n",
    "#utils\n",
    "from pathlib import Path\n",
    "import urllib.parse"
   ]
  },
  {
   "cell_type": "code",
   "execution_count": null,
   "metadata": {
    "pycharm": {
     "is_executing": false,
     "name": "#%%\n"
    }
   },
   "outputs": [],
   "source": [
    "#sns.set(style='white', context='paper', rc={'figure.figsize':(7,5), 'font.family':'serif', 'font.size':14})\n",
    "sns.set(style='white', context='notebook', rc={'figure.figsize':(14,10)})#, 'font.family':'serif'})\n",
    "\n",
    "plt.style.use('seaborn')\n",
    "\n",
    "pd.set_option('display.max_rows', 30)\n",
    "pd.set_option('display.max_columns', None)\n",
    "pd.set_option('display.max_colwidth', None)  # more options can be specified also\n",
    "\n",
    "pyo.init_notebook_mode()"
   ]
  },
  {
   "cell_type": "markdown",
   "metadata": {
    "pycharm": {
     "name": "#%% md\n"
    }
   },
   "source": [
    "## Arguments"
   ]
  },
  {
   "cell_type": "code",
   "execution_count": null,
   "metadata": {
    "collapsed": false,
    "jupyter": {
     "outputs_hidden": false
    },
    "pycharm": {
     "is_executing": false,
     "name": "#%%\n"
    }
   },
   "outputs": [],
   "source": [
    "data_loc='data'\n",
    "#data_loc='Z:\\\\SECT\\\\results\\\\'\n",
    "\n",
    "analysis_date='2020-04-16_2020-04-22' #starts at beginning of day, ends at the end\n",
    "freq = '1D'\n",
    "prefix = 'compare10'"
   ]
  },
  {
   "cell_type": "code",
   "execution_count": null,
   "metadata": {
    "pycharm": {
     "is_executing": false,
     "name": "#%% \n"
    }
   },
   "outputs": [],
   "source": [
    "dt_from, dt_to, dirname = utils.parse_analysis_date(analysis_date)\n",
    "\n",
    "path=f\"{data_loc}/{prefix}_{dirname}_{freq}/\"\n",
    "\n",
    "print(f'Reading data in: {path}')\n",
    "\n",
    "#load data \n",
    "dfdict = utils.load_named_df(path, ['matches','series'])\n",
    "matches=dfdict['matches']\n",
    "series=dfdict['series']\n",
    "\n",
    "display(series)"
   ]
  },
  {
   "cell_type": "code",
   "execution_count": null,
   "metadata": {
    "collapsed": false,
    "jupyter": {
     "outputs_hidden": false
    },
    "pycharm": {
     "is_executing": false,
     "name": "#%%\n"
    }
   },
   "outputs": [],
   "source": [
    "counts = series['ips'].applymap(lambda x : len(x) if isinstance(x,list) else 0)\n",
    "\n",
    "plt.figure()\n",
    "counts_norm = (counts.T / counts.T.max()).T\n",
    "ax = sns.heatmap(data=counts_norm, robust=True, annot=counts) # filter here if need be\n",
    "ax.set_xticklabels(counts.columns.to_series());"
   ]
  },
  {
   "cell_type": "code",
   "execution_count": null,
   "outputs": [],
   "source": [
    "display(matches)\n"
   ],
   "metadata": {
    "collapsed": false,
    "pycharm": {
     "name": "#%%\n"
    }
   }
  },
  {
   "cell_type": "code",
   "execution_count": null,
   "outputs": [],
   "source": [],
   "metadata": {
    "collapsed": false,
    "pycharm": {
     "name": "#%%\n"
    }
   }
  },
  {
   "cell_type": "code",
   "execution_count": null,
   "metadata": {},
   "outputs": [],
   "source": []
  },
  {
   "cell_type": "code",
   "execution_count": null,
   "metadata": {},
   "outputs": [],
   "source": []
  }
 ],
 "metadata": {
  "kernelspec": {
   "display_name": "Python 3",
   "language": "python",
   "name": "python3"
  },
  "language_info": {
   "codemirror_mode": {
    "name": "ipython",
    "version": 3
   },
   "file_extension": ".py",
   "mimetype": "text/x-python",
   "name": "python",
   "nbconvert_exporter": "python",
   "pygments_lexer": "ipython3",
   "version": "3.6.10"
  },
  "pycharm": {
   "stem_cell": {
    "cell_type": "raw",
    "source": [],
    "metadata": {
     "collapsed": false
    }
   }
  }
 },
 "nbformat": 4,
 "nbformat_minor": 4
}