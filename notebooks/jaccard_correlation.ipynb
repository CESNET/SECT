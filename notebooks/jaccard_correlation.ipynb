{
 "cells": [
  {
   "cell_type": "code",
   "execution_count": 1,
   "outputs": [
    {
     "name": "stderr",
     "text": [
      "C:\\ProgramData\\Anaconda3\\envs\\temporal_event_corr\\lib\\site-packages\\sklearn\\externals\\six.py:31: DeprecationWarning: The module is deprecated in version 0.21 and will be removed in version 0.23 since we've dropped support for Python 2.7. Please rely on the official version of six (https://pypi.org/project/six/).\n  \"(https://pypi.org/project/six/).\", DeprecationWarning)\nC:\\ProgramData\\Anaconda3\\envs\\temporal_event_corr\\lib\\site-packages\\sklearn\\externals\\joblib\\__init__.py:15: DeprecationWarning: sklearn.externals.joblib is deprecated in 0.21 and will be removed in 0.23. Please import this functionality directly from joblib, which can be installed with: pip install joblib. If this warning is raised when loading pickled models, you may need to re-serialize those models with scikit-learn 0.21+.\n  warnings.warn(msg, category=DeprecationWarning)\n"
     ],
     "output_type": "stream"
    }
   ],
   "source": [
    "# Load the extension, disable it after development\n",
    "%load_ext autoreload\n",
    "%autoreload 2\n",
    "\n",
    "from preprocess import *\n",
    "\n",
    "import numpy as np\n",
    "import pandas as pd\n",
    "\n",
    "from fastdtw import fastdtw\n",
    "from dtaidistance import dtw\n",
    "from scipy.spatial.distance import squareform, pdist\n",
    "\n",
    "import umap\n",
    "import hdbscan\n",
    "import sklearn.cluster as cluster\n",
    "from sklearn.metrics import adjusted_rand_score, adjusted_mutual_info_score\n",
    "\n",
    "import matplotlib.pyplot as plt\n",
    "import seaborn as sns\n",
    "%matplotlib inline"
   ],
   "metadata": {
    "collapsed": false,
    "pycharm": {
     "name": "#%%\n",
     "is_executing": false
    }
   }
  },
  {
   "cell_type": "code",
   "execution_count": 2,
   "outputs": [],
   "source": [
    "sns.set(style='white', context='notebook', rc={'figure.figsize':(14,10)})\n"
   ],
   "metadata": {
    "collapsed": false,
    "pycharm": {
     "name": "#%%\n",
     "is_executing": false
    }
   }
  },
  {
   "cell_type": "markdown",
   "source": [],
   "metadata": {
    "collapsed": false
   }
  },
  {
   "cell_type": "code",
   "execution_count": 3,
   "outputs": [],
   "source": [
    "df = pd.read_csv('../data/2019-08-01_test2.csv')\n",
    "df=df[['ip','timestamp']]\n",
    "\n",
    "#A = get_aggregated(df, '2019-08-01 00:00:00','2019-08-02 00:00:00')\n",
    "#A = get_aggregated(df)\n",
    "\n",
    "tfrom=datetime.datetime.fromisoformat('2019-08-01 00:00:00').timestamp()\n",
    "tto=datetime.datetime.fromisoformat('2019-08-02 00:00:00').timestamp()\n",
    "\n",
    "agg_secs = 900\n",
    "days_proc = 1\n",
    "\n",
    "A = df.copy()\n",
    "A = df[df['timestamp']>=tfrom]\n",
    "A = A[A['timestamp']<tto]\n",
    "\n",
    "A['timestamp'] = A.timestamp-tfrom\n",
    "A['timestamp'] = np.floor(A.timestamp/agg_secs)\n",
    "Ag = A.groupby('ip')['timestamp'].agg([list, 'count'])\n",
    "\n",
    "#df['agg']=np.floor(df['timestamp']/900)\n",
    "#exp=df.groupby('agg')['ip'].agg([set])\n",
    "#sns.barplot(A['timestamp','count'])\n",
    "\n",
    "data = Ag[Ag['count'] > 10] #prefiltered data\n",
    "#data = Ag"
   ],
   "metadata": {
    "collapsed": false,
    "pycharm": {
     "name": "#%%\n",
     "is_executing": false
    }
   }
  },
  {
   "cell_type": "markdown",
   "source": [
    "###\n"
   ],
   "metadata": {
    "collapsed": false
   }
  },
  {
   "cell_type": "code",
   "execution_count": 4,
   "outputs": [
    {
     "name": "stderr",
     "text": [
      "C:\\ProgramData\\Anaconda3\\envs\\temporal_event_corr\\lib\\site-packages\\ipykernel_launcher.py:1: SettingWithCopyWarning: \nA value is trying to be set on a copy of a slice from a DataFrame.\nTry using .loc[row_indexer,col_indexer] = value instead\n\nSee the caveats in the documentation: http://pandas.pydata.org/pandas-docs/stable/indexing.html#indexing-view-versus-copy\n  \"\"\"Entry point for launching an IPython kernel.\nC:\\ProgramData\\Anaconda3\\envs\\temporal_event_corr\\lib\\site-packages\\ipykernel_launcher.py:2: SettingWithCopyWarning: \nA value is trying to be set on a copy of a slice from a DataFrame.\nTry using .loc[row_indexer,col_indexer] = value instead\n\nSee the caveats in the documentation: http://pandas.pydata.org/pandas-docs/stable/indexing.html#indexing-view-versus-copy\n  \n",
      "C:\\ProgramData\\Anaconda3\\envs\\temporal_event_corr\\lib\\site-packages\\ipykernel_launcher.py:4: SettingWithCopyWarning: \nA value is trying to be set on a copy of a slice from a DataFrame\n\nSee the caveats in the documentation: http://pandas.pydata.org/pandas-docs/stable/indexing.html#indexing-view-versus-copy\n  after removing the cwd from sys.path.\n"
     ],
     "output_type": "stream"
    }
   ],
   "source": [
    "data['series']=data['list'].apply(get_bin_series, args=[np.int((days_proc*24*3600)/agg_secs)])\n",
    "data['active']=data['series'].apply(np.sum)\n",
    "\n",
    "data.sort_values('active', inplace=True, ascending=True)\n",
    "#vect=pd.concat([pd.DataFrame(index=data.index, data=np.stack(data.series)),data['count']], axis=1)\n",
    "\n",
    "vect=pd.DataFrame(index=data.index, data=np.stack(data.series))\n",
    "#vect=vect[data['active']<60]"
   ],
   "metadata": {
    "collapsed": false,
    "pycharm": {
     "name": "#%%\n",
     "is_executing": false
    }
   }
  },
  {
   "cell_type": "code",
   "execution_count": 5,
   "outputs": [],
   "source": [
    "pairwise = pd.DataFrame(squareform(pdist(vect,metric='jaccard')), index=data.index, columns=data.index, dtype=np.float32)"
   ],
   "metadata": {
    "collapsed": false,
    "pycharm": {
     "name": "#%%\n",
     "is_executing": false
    }
   }
  },
  {
   "cell_type": "code",
   "execution_count": 6,
   "outputs": [],
   "source": [
    "threshold=0.90 #for corelation to be positive at least as much have to match\n",
    "window_threshold=0.8\n",
    "\n",
    "for act in range(1,np.int(np.floor(90*window_threshold))):\n",
    "    subset = pairwise[data['active']>=act-np.ceil(act*(1-window_threshold))]\n",
    "    subset = subset[data['active']<=act+3]#np.floor(act*(1-window_threshold))]\n",
    "    \n",
    "    counts=(pairwise <= 0.05).apply(np.sum, axis=1)\n",
    "    break"
   ],
   "metadata": {
    "collapsed": false,
    "pycharm": {
     "name": "#%%\n",
     "is_executing": false
    }
   }
  },
  {
   "cell_type": "code",
   "execution_count": 7,
   "outputs": [],
   "source": [
    "#sns.lineplot(counts)\n"
   ],
   "metadata": {
    "collapsed": false,
    "pycharm": {
     "name": "#%%\n",
     "is_executing": false
    }
   }
  },
  {
   "cell_type": "code",
   "execution_count": 8,
   "outputs": [],
   "source": [
    "#labels = hdbscan.HDBSCAN(\n",
    "#    min_samples=30,\n",
    "#    min_cluster_size=50,\n",
    "#    metric='precomputed'\n",
    "#).fit_predict(subset)"
   ],
   "metadata": {
    "collapsed": false,
    "pycharm": {
     "name": "#%%\n",
     "is_executing": false
    }
   }
  },
  {
   "cell_type": "code",
   "execution_count": 9,
   "outputs": [],
   "source": [
    "vect.to_csv('../data/2019-08-01_jaccard.csv')"
   ],
   "metadata": {
    "collapsed": false,
    "pycharm": {
     "name": "#%%\n",
     "is_executing": false
    }
   }
  }
 ],
 "metadata": {
  "language_info": {
   "codemirror_mode": {
    "name": "ipython",
    "version": 2
   },
   "file_extension": ".py",
   "mimetype": "text/x-python",
   "name": "python",
   "nbconvert_exporter": "python",
   "pygments_lexer": "ipython2",
   "version": "2.7.6"
  },
  "kernelspec": {
   "name": "python3",
   "language": "python",
   "display_name": "Python 3"
  },
  "pycharm": {
   "stem_cell": {
    "cell_type": "raw",
    "source": [],
    "metadata": {
     "collapsed": false
    }
   }
  }
 },
 "nbformat": 4,
 "nbformat_minor": 0
}